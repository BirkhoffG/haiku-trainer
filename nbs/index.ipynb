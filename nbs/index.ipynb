{
 "cells": [
  {
   "cell_type": "markdown",
   "metadata": {},
   "source": [
    "# haiku-trainer\n",
    "\n",
    "> "
   ]
  },
  {
   "attachments": {},
   "cell_type": "markdown",
   "metadata": {},
   "source": [
    "![CI](https://github.com/BirkhoffG/haiku-trainer/actions/workflows/test.yaml/badge.svg)\n",
    "![Docs](https://github.com/BirkhoffG/haiku-trainer/actions/workflows/deploy.yaml/badge.svg)\n",
    "![License](https://img.shields.io/github/license/BirkhoffG/haiku-trainer.svg)\n"
   ]
  },
  {
   "attachments": {},
   "cell_type": "markdown",
   "metadata": {},
   "source": [
    "`haiku-trainer` is an experimental package to facilitate fast, extensible, and scalable deep learning in `dm-haiku` and `JAX`. "
   ]
  },
  {
   "cell_type": "markdown",
   "metadata": {},
   "source": [
    "## Install"
   ]
  },
  {
   "cell_type": "markdown",
   "metadata": {},
   "source": [
    "```sh\n",
    "pip install haiku_trainer\n",
    "```"
   ]
  }
 ],
 "metadata": {
  "kernelspec": {
   "display_name": "python3",
   "language": "python",
   "name": "python3"
  }
 },
 "nbformat": 4,
 "nbformat_minor": 4
}
