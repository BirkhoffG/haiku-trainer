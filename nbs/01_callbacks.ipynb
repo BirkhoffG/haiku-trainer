{
 "cells": [
  {
   "cell_type": "code",
   "execution_count": null,
   "metadata": {},
   "outputs": [],
   "source": [
    "#| default_exp callbacks"
   ]
  },
  {
   "cell_type": "code",
   "execution_count": 8,
   "metadata": {},
   "outputs": [],
   "source": [
    "#| export\n",
    "from __future__ import annotations\n",
    "import jax, jax.numpy as jnp, jax.random as jrand\n",
    "import haiku as hk\n",
    "import optax\n",
    "import chex\n",
    "from typing import Callable, Tuple, Any, Sequence, Iterable, Mapping, Dict, List, NamedTuple\n",
    "import functools as ft\n",
    "from haiku_trainer.trainer import TrainState, Trainer\n",
    "from tqdm import tqdm"
   ]
  },
  {
   "cell_type": "code",
   "execution_count": 4,
   "metadata": {},
   "outputs": [],
   "source": [
    "#| export\n",
    "class Callback:\n",
    "    __every_n = 1\n",
    "    __trainer: Trainer = None\n",
    "\n",
    "    @property\n",
    "    def every_n(self): return self.__every_n\n",
    "\n",
    "    @property\n",
    "    def trainer(self): return self.__trainer\n",
    "\n",
    "    def every(self, n: int):\n",
    "        self.__every_n = n\n",
    "        return self\n",
    "    \n",
    "    def init_trainer(self, trainer: Trainer):\n",
    "        self.__trainer = trainer\n",
    "        return self\n",
    "    \n",
    "    def __call__(self, train_state: TrainState):\n",
    "        raise NotImplementedError"
   ]
  },
  {
   "cell_type": "code",
   "execution_count": 6,
   "metadata": {},
   "outputs": [],
   "source": [
    "cb = Callback().every(2)\n",
    "assert cb.every_n == 2"
   ]
  },
  {
   "cell_type": "code",
   "execution_count": null,
   "metadata": {},
   "outputs": [],
   "source": [
    "class ProgbarLogger(Callback):\n",
    "    def __init__(self): pass"
   ]
  }
 ],
 "metadata": {
  "kernelspec": {
   "display_name": "jax-dataloader",
   "language": "python",
   "name": "python3"
  },
  "language_info": {
   "codemirror_mode": {
    "name": "ipython",
    "version": 3
   },
   "file_extension": ".py",
   "mimetype": "text/x-python",
   "name": "python",
   "nbconvert_exporter": "python",
   "pygments_lexer": "ipython3",
   "version": "3.8.16"
  },
  "orig_nbformat": 4
 },
 "nbformat": 4,
 "nbformat_minor": 2
}
